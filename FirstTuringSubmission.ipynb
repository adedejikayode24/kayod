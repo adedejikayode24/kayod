{
  "nbformat": 4,
  "nbformat_minor": 0,
  "metadata": {
    "colab": {
      "name": "FirstTuringSubmission.ipynb",
      "provenance": [],
      "collapsed_sections": [],
      "authorship_tag": "ABX9TyMW/99Q2bcGbG7395lvHUP7",
      "include_colab_link": true
    },
    "kernelspec": {
      "name": "python3",
      "display_name": "Python 3"
    },
    "language_info": {
      "name": "python"
    }
  },
  "cells": [
    {
      "cell_type": "markdown",
      "metadata": {
        "id": "view-in-github",
        "colab_type": "text"
      },
      "source": [
        "<a href=\"https://colab.research.google.com/github/adedejikayode24/kayod/blob/master/FirstTuringSubmission.ipynb\" target=\"_parent\"><img src=\"https://colab.research.google.com/assets/colab-badge.svg\" alt=\"Open In Colab\"/></a>"
      ]
    },
    {
      "cell_type": "code",
      "execution_count": null,
      "metadata": {
        "colab": {
          "base_uri": "https://localhost:8080/"
        },
        "id": "TqS4gDcCV50Y",
        "outputId": "604c7fd6-52a5-44af-e359-bec18008af0d"
      },
      "outputs": [
        {
          "output_type": "stream",
          "name": "stdout",
          "text": [
            "27\n"
          ]
        }
      ],
      "source": [
        "#import random module to enable user guess\n",
        "import random\n",
        "\n",
        "#define the guess name function\n",
        "def guessing_game(): \n",
        "\n",
        "#chooses a random number between 0 and 100 inclusive and displays on screen\n",
        "    random_number = random.randint(0,100) \n",
        "    print(random_number)\n",
        "\n",
        "    #The while loop forces the user to keep guessing until a correct number is gotten\n",
        "    while True:\n",
        "        #ask user to input desired number\n",
        "        user_answer = int(input('what is your guess? '))\n",
        "        \n",
        "        #if the users guess i greater than the random number generated, it will display 'too high'\n",
        "        if user_answer > random_number:\n",
        "            print(\"Too high!\")\n",
        "\n",
        "        #if the users guess is equal to the random number generated, it will display 'just right'\n",
        "        elif user_answer == random_number:\n",
        "            print(\"Just right\")\n",
        "            break #break will get of the while loop and terminate the program\n",
        "\n",
        "        #if the users guess does not meet the above conditions, it will display 'too low'\n",
        "        else :\n",
        "            print(\"Too low!\")\n",
        "            \n",
        "guessing_game()"
      ]
    }
  ]
}