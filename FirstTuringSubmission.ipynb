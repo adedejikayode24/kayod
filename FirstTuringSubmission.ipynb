{
  "nbformat": 4,
  "nbformat_minor": 0,
  "metadata": {
    "colab": {
      "name": "FirstTuringSubmission.ipynb",
      "provenance": [],
      "collapsed_sections": [],
      "authorship_tag": "ABX9TyOVtzm4h6asgcR7sp/S/Pol",
      "include_colab_link": true
    },
    "kernelspec": {
      "name": "python3",
      "display_name": "Python 3"
    },
    "language_info": {
      "name": "python"
    }
  },
  "cells": [
    {
      "cell_type": "markdown",
      "metadata": {
        "id": "view-in-github",
        "colab_type": "text"
      },
      "source": [
        "<a href=\"https://colab.research.google.com/github/adedejikayode24/kayod/blob/master/FirstTuringSubmission.ipynb\" target=\"_parent\"><img src=\"https://colab.research.google.com/assets/colab-badge.svg\" alt=\"Open In Colab\"/></a>"
      ]
    },
    {
      "cell_type": "code",
      "execution_count": 10,
      "metadata": {
        "colab": {
          "base_uri": "https://localhost:8080/"
        },
        "id": "TqS4gDcCV50Y",
        "outputId": "280d0969-6945-4dbc-afea-733e61f4ca58"
      },
      "outputs": [
        {
          "output_type": "stream",
          "name": "stdout",
          "text": [
            "62\n",
            "what is your guess? 85\n",
            "Too high!\n",
            "what is your guess? 100\n",
            "Too high!\n",
            "what is your guess? 47\n",
            "Too low!\n",
            "what is your guess? 62\n",
            "Just right\n"
          ]
        }
      ],
      "source": [
        "#import random module to enable user guess\n",
        "import random\n",
        "\n",
        "#define the guess name function\n",
        "def guessing_game(): \n",
        "\n",
        "#chooses a random number between 0 and 100 inclusive and displays on screen\n",
        "    random_number = random.randint(0,100) \n",
        "    print(random_number)\n",
        "\n",
        "    #The while loop forces the user to keep guessing until a correct number is gotten\n",
        "    while True:\n",
        "        #ask user to input desired number\n",
        "        user_answer = int(input('what is your guess? '))\n",
        "        \n",
        "        if user_answer > random_number:#\n",
        "            print(\"Too high!\")\n",
        "        elif user_answer == random_number:\n",
        "            print(\"Just right\")\n",
        "            break #break will get of the while loop and terminate the program\n",
        "        else :\n",
        "            print(\"Too low!\")\n",
        "            \n",
        "guessing_game()"
      ]
    }
  ]
}